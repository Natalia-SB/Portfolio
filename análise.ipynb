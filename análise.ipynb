{
  "nbformat": 4,
  "nbformat_minor": 0,
  "metadata": {
    "colab": {
      "provenance": [],
      "authorship_tag": "ABX9TyNjz4G/RH7mUSEZ5L3l6iHS",
      "include_colab_link": true
    },
    "kernelspec": {
      "name": "python3",
      "display_name": "Python 3"
    },
    "language_info": {
      "name": "python"
    }
  },
  "cells": [
    {
      "cell_type": "markdown",
      "metadata": {
        "id": "view-in-github",
        "colab_type": "text"
      },
      "source": [
        "<a href=\"https://colab.research.google.com/github/Natalia-SB/portfolio/blob/main/an%C3%A1lise.ipynb\" target=\"_parent\"><img src=\"https://colab.research.google.com/assets/colab-badge.svg\" alt=\"Open In Colab\"/></a>"
      ]
    },
    {
      "cell_type": "markdown",
      "source": [
        "## Análise de vendas (em andamento)"
      ],
      "metadata": {
        "id": "9rOPcWFcdTJn"
      }
    },
    {
      "cell_type": "markdown",
      "source": [],
      "metadata": {
        "id": "iXDNVoNedUlt"
      }
    },
    {
      "cell_type": "code",
      "source": [],
      "metadata": {
        "id": "QrbWE4ujdVBe"
      },
      "execution_count": null,
      "outputs": []
    }
  ]
}